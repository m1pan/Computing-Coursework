{
 "cells": [
  {
   "cell_type": "markdown",
   "metadata": {},
   "source": [
    "<h1>Computing Coursework 2024</h1>\n",
    "<h5>Michael Pan, Joshua Chong</h5>"
   ]
  },
  {
   "cell_type": "markdown",
   "metadata": {},
   "source": [
    "<h3>Importing Libraries</h3>"
   ]
  },
  {
   "cell_type": "code",
   "execution_count": 11,
   "metadata": {},
   "outputs": [
    {
     "name": "stdout",
     "output_type": "stream",
     "text": [
      "Requirement already satisfied: numpy in c:\\users\\michael\\appdata\\local\\packages\\pythonsoftwarefoundation.python.3.11_qbz5n2kfra8p0\\localcache\\local-packages\\python311\\site-packages (1.26.1)\n",
      "Requirement already satisfied: matplotlib in c:\\users\\michael\\appdata\\local\\packages\\pythonsoftwarefoundation.python.3.11_qbz5n2kfra8p0\\localcache\\local-packages\\python311\\site-packages (3.8.0)\n",
      "Requirement already satisfied: contourpy>=1.0.1 in c:\\users\\michael\\appdata\\local\\packages\\pythonsoftwarefoundation.python.3.11_qbz5n2kfra8p0\\localcache\\local-packages\\python311\\site-packages (from matplotlib) (1.1.1)\n",
      "Requirement already satisfied: cycler>=0.10 in c:\\users\\michael\\appdata\\local\\packages\\pythonsoftwarefoundation.python.3.11_qbz5n2kfra8p0\\localcache\\local-packages\\python311\\site-packages (from matplotlib) (0.12.1)\n",
      "Requirement already satisfied: fonttools>=4.22.0 in c:\\users\\michael\\appdata\\local\\packages\\pythonsoftwarefoundation.python.3.11_qbz5n2kfra8p0\\localcache\\local-packages\\python311\\site-packages (from matplotlib) (4.43.1)\n",
      "Requirement already satisfied: kiwisolver>=1.0.1 in c:\\users\\michael\\appdata\\local\\packages\\pythonsoftwarefoundation.python.3.11_qbz5n2kfra8p0\\localcache\\local-packages\\python311\\site-packages (from matplotlib) (1.4.5)\n",
      "Requirement already satisfied: packaging>=20.0 in c:\\users\\michael\\appdata\\local\\packages\\pythonsoftwarefoundation.python.3.11_qbz5n2kfra8p0\\localcache\\local-packages\\python311\\site-packages (from matplotlib) (23.2)\n",
      "Requirement already satisfied: pillow>=6.2.0 in c:\\users\\michael\\appdata\\local\\packages\\pythonsoftwarefoundation.python.3.11_qbz5n2kfra8p0\\localcache\\local-packages\\python311\\site-packages (from matplotlib) (10.1.0)\n",
      "Requirement already satisfied: pyparsing>=2.3.1 in c:\\users\\michael\\appdata\\local\\packages\\pythonsoftwarefoundation.python.3.11_qbz5n2kfra8p0\\localcache\\local-packages\\python311\\site-packages (from matplotlib) (3.1.1)\n",
      "Requirement already satisfied: python-dateutil>=2.7 in c:\\users\\michael\\appdata\\local\\packages\\pythonsoftwarefoundation.python.3.11_qbz5n2kfra8p0\\localcache\\local-packages\\python311\\site-packages (from matplotlib) (2.8.2)\n",
      "Requirement already satisfied: six>=1.5 in c:\\users\\michael\\appdata\\local\\packages\\pythonsoftwarefoundation.python.3.11_qbz5n2kfra8p0\\localcache\\local-packages\\python311\\site-packages (from python-dateutil>=2.7->matplotlib) (1.16.0)\n"
     ]
    }
   ],
   "source": [
    "# make sure required libraries are installed\n",
    "%pip install numpy matplotlib\n",
    "%matplotlib inline\n",
    "\n",
    "# In this section I am importing all the libraries I will need\n",
    "import numpy as np\n",
    "import matplotlib.pyplot as plt"
   ]
  },
  {
   "cell_type": "markdown",
   "metadata": {},
   "source": [
    "### Black-Scholes Equation\n",
    "The Black-Scholes equation for options value is defined by\n",
    "$$ \\frac{\\partial V}{\\partial t} + \\frac{1}{2}\\sigma^2S^2\\frac{\\partial^2 V}{\\partial S^2} + rS\\frac{\\partial V}{\\partial S} - rV = 0 $$\n",
    "where $V$ is price of the call option, $S$ is price of the underlying stock, $t$ is the time in years, $r$ is the risk-free interest rate, and $\\sigma$ is the volatility of the underlying stock price. \n",
    "\n",
    "To solve this PDE numerically, we transformed into the form of the heat diffusion equation \n",
    "$$ \\frac{\\partial u}{\\partial \\tau} = \\frac{\\sigma^2}{2}\\frac{\\partial^2 u}{\\partial x^2} $$\n",
    "using the transformations\n",
    "$$ \\tau = T - t $$\n",
    "$$ x = \\ln{\\frac{S}{K}} $$\n",
    "$$ U(x, \\tau) = Ve^{\\alpha x + \\beta \\tau} $$\n",
    "where \n",
    "$$ \\alpha = \\frac{r}{\\sigma^2}-\\frac{1}{2} $$\n",
    "$$ \\beta = \\frac{r^2}{2\\sigma^2} + \\frac{r}{2} + \\frac{\\sigma^2}{8} $$"
   ]
  },
  {
   "cell_type": "markdown",
   "metadata": {},
   "source": [
    "### Setting Constants"
   ]
  },
  {
   "cell_type": "code",
   "execution_count": 12,
   "metadata": {},
   "outputs": [],
   "source": [
    "# Expiration time in years\n",
    "T = 1\n",
    "# Strike price \n",
    "K = 100\n",
    "# Risk-free interest rate\n",
    "r = 0.05\n",
    "# Volatility of stock price\n",
    "sigma = 0.2\n",
    "\n",
    "\n",
    "#coefficients of u\n",
    "alpha = (r/(sigma**2)) - 0.5\n",
    "beta = (r**2 / (2 * sigma**2)) + (r / 2) + (sigma**2 / 8)\n",
    "\n",
    "# sigma^2 / 2\n",
    "sigma2 = sigma**2 / 2\n"
   ]
  },
  {
   "cell_type": "markdown",
   "metadata": {},
   "source": [
    "### Discretised Grid"
   ]
  },
  {
   "cell_type": "code",
   "execution_count": 13,
   "metadata": {},
   "outputs": [],
   "source": [
    "# In this section I am setting the domain of solution and the discretised grid\n",
    "# The domain of x\n",
    "L = 200\n",
    "h = 0.1     # step size\n",
    "n = (2*L / h) + 1    # number of nodes for x\n",
    "\n",
    "# The domain of tau\n",
    "T = 1 \n",
    "p = 0.001     # step size\n",
    "m = (T/p) + 1     # number of nodes for tau\n",
    "\n",
    "# function takes in the domain of x xi, the step size hi, the domain of tau ti and the step size pi and returns the discretised grid\n",
    "def grid(xi,hi,ti,pi):\n",
    "    # initialising discretised grid\n",
    "    x = np.arange(-xi,xi+hi,hi)\n",
    "    tau = np.arange(0,ti+pi,pi)\n",
    "    return x,tau\n",
    "\n",
    "x, tau = grid(L,h,T,p)"
   ]
  },
  {
   "cell_type": "code",
   "execution_count": 14,
   "metadata": {},
   "outputs": [],
   "source": [
    "# In this section I am defining arrays I would need (if neeeded)\n",
    "# initialising the solution matrix u(tau, x)\n",
    "u = np.zeros((int(m),int(n)))\n",
    "\n",
    "\n"
   ]
  },
  {
   "cell_type": "markdown",
   "metadata": {},
   "source": [
    "### Boundary Conditions\n",
    "The non-transformed boundary conditions are \n",
    "$$ V(0,t) = O $$\n",
    "$$ V(\\infty, t) = S - Ke^{-r(T-t)} $$\n",
    "with an end condition of\n",
    "$$ V(S,T) = max\\{S-K, 0\\} $$\n",
    "\n",
    "After the transformation into the heat equation form, the boundary and end conditions are transformed to\n",
    "$$ u(-L,\\tau) = 0 $$\n",
    "$$ u(L,\\tau) = e^{\\alpha L + \\beta \\tau}(Ke^L-Ke^{-r\\tau}) $$\n",
    "$$ u(x,0) = e^{\\alpha x} * max\\{Ke^x-K,0\\} $$"
   ]
  },
  {
   "cell_type": "code",
   "execution_count": 15,
   "metadata": {},
   "outputs": [],
   "source": [
    "# In this section I am setting the boundary conditions/initial values\n",
    "def boundary_conditions(u,x,tau):\n",
    "    # setting the initial condition at tau = 0\n",
    "    u[0,:] = np.maximum(np.exp(x)*K - K,0)*np.exp(-alpha*x)\n",
    "    # setting the boundary condition at x = -L\n",
    "    u[:,0] = 0\n",
    "    # setting the boundary condition at x = L\n",
    "    u[:,-1] = np.exp(alpha*x[-1] + beta*tau) * (np.exp(x[-1])*K - K*np.exp(-r*tau))\n",
    "    return u\n",
    "\n",
    "u = boundary_conditions(u,x,tau)"
   ]
  },
  {
   "cell_type": "markdown",
   "metadata": {},
   "source": [
    "### Numerical Method"
   ]
  },
  {
   "cell_type": "markdown",
   "metadata": {},
   "source": [
    "#### Explicit Solution\n"
   ]
  },
  {
   "cell_type": "code",
   "execution_count": 16,
   "metadata": {},
   "outputs": [],
   "source": [
    "# In this section I am implementing the numerical method using an explicit finite difference scheme\n",
    "def explicit(u,m,n):\n",
    "    # initialise explicit solution matrix\n",
    "    u_explicit = u.deepcopy()\n",
    "    # populating the solution matrix from second row to last row\n",
    "    for i in range(m-1):        # looping through tau\n",
    "        for j in range(n-1):    # looping through x\n",
    "            u_explicit[i+1,j] = u_explicit[i,j] + (sigma2*p/h**2) * (u_explicit[i,j+1] - 2*u_explicit[i,j] + u_explicit[i,j-1])\n",
    "    return u_explicit\n",
    "u_explicit = explicit(u,m,n)"
   ]
  },
  {
   "cell_type": "markdown",
   "metadata": {},
   "source": [
    "#### Implicit Solution"
   ]
  },
  {
   "cell_type": "code",
   "execution_count": null,
   "metadata": {},
   "outputs": [],
   "source": [
    "#In this section I am implementing the numerical method using an implicit finite difference scheme\n",
    "# initialise implicit solution matrix\n",
    "u_implicit = u.deepcopy()\n"
   ]
  },
  {
   "cell_type": "code",
   "execution_count": 17,
   "metadata": {},
   "outputs": [],
   "source": [
    "# In this section I am showing the results\n",
    "\n",
    "\n",
    "\n"
   ]
  },
  {
   "cell_type": "markdown",
   "metadata": {},
   "source": [
    "### THE END\n",
    "𝅘𝅥𝅮 celebrate good time come on 𝅘𝅥𝅮"
   ]
  },
  {
   "cell_type": "code",
   "execution_count": 18,
   "metadata": {},
   "outputs": [
    {
     "name": "stdout",
     "output_type": "stream",
     "text": [
      "CW done: I deserve a good mark\n"
     ]
    }
   ],
   "source": [
    "# In this section I am celebrating\n",
    "print('CW done: I deserve a good mark')"
   ]
  }
 ],
 "metadata": {
  "kernelspec": {
   "display_name": "Python 3",
   "language": "python",
   "name": "python3"
  },
  "language_info": {
   "codemirror_mode": {
    "name": "ipython",
    "version": 3
   },
   "file_extension": ".py",
   "mimetype": "text/x-python",
   "name": "python",
   "nbconvert_exporter": "python",
   "pygments_lexer": "ipython3",
   "version": "3.11.8"
  }
 },
 "nbformat": 4,
 "nbformat_minor": 2
}
